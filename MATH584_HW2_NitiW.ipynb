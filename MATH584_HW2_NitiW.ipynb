{
 "cells": [
  {
   "cell_type": "code",
   "execution_count": 1,
   "metadata": {},
   "outputs": [],
   "source": [
    "import pandas as pd\n",
    "import numpy as np \n",
    "import csv\n",
    "import matplotlib.pyplot as plt\n",
    "import math\n",
    "from pandas_datareader import data\n",
    "import scipy.optimize\n",
    "from scipy import stats\n",
    "from scipy.interpolate import InterpolatedUnivariateSpline\n",
    "from scipy.interpolate import griddata"
   ]
  },
  {
   "cell_type": "code",
   "execution_count": 2,
   "metadata": {},
   "outputs": [],
   "source": [
    "#read the list of tickers from file\n",
    "\n",
    "tickers_file = 'TechTickers.csv'\n",
    "tickers = [];\n",
    "f = open(tickers_file,\"r\",encoding='utf-8-sig')\n",
    "for line in csv.reader(f):\n",
    "    tickers.append(str(line[0]))\n",
    "f.close\n",
    "\n",
    "#download data from yahoo between the starting and ending dates\n",
    "\n",
    "start_date = '2009-01-01'\n",
    "end_date = '2019-12-31'\n",
    "stock_data = data.get_data_yahoo(tickers, start_date, end_date)\n",
    "adjClosing = stock_data['Adj Close']\n",
    "returns = adjClosing.pct_change()"
   ]
  },
  {
   "cell_type": "code",
   "execution_count": null,
   "metadata": {},
   "outputs": [],
   "source": [
    "#1  In this question, you construct dynamic utility-optimizing trading strategies. \n",
    "# (Do not forget that the riskless return is a part of the universe of available assets.) \n",
    "# Use the power utility with γ = 1/2, the trading time horizon T = 100 (measured in days), \n",
    "# and the calibration window size N = 250.\n",
    "\n",
    "# 1a Construct the optimal strategy for each asset with the riskless one. \n",
    "# Output their PnL process, annualized mean, variance and Sharpe ratio"
   ]
  },
  {
   "cell_type": "markdown",
   "metadata": {},
   "source": [
    " Solving Merton's problem for our utility function U(x)=((X0*x)^gamma)/gamma:\n",
    " Let a = alpha(risky), m = mean, s = standard Dev, e = error, r = riskless return rate\n",
    " In the case where gamma < 1 (here gamma = 1/2), we can solve for a* explicitly:\n",
    "\n",
    " Our Utility function is U(x)=2(X0*x)^0.5\n",
    " and the DPP function is in the form V(t,x)=2(x^0.5)(c(t))\n",
    " where c(t)=max(a)EV[X0(max(a)E(2(1+a(m+e)+(1-a)r)^0.5)]\n",
    " solving for the a that maximizes the above function is equivalent to solving..\n",
    "  E(2(1+a(m+e)+(1-a)r)^0.5) = (1+a(m+s)+(1-a)r)^0.5 + (1+a(m-s)+(1-a)r)^0.5\n",
    "                            = (1+r+a(m-r+s))^0.5 + (1+r+a(m-r-s))^0.5\n",
    " Take derivative with respect to a, set it = 0\n",
    "                          0 = (1/2)(m-r+s)(1+r+a(m-r+s))^-0.5 + (1/2)(m-r-s)(1+r+a(m-r-s))^-0.5\n",
    "                         a* = 2(r+1)(r-m)/((m-r)^2-s^2)\n",
    " we can now use this formula to calculate a* explicitly for our window samples"
   ]
  },
  {
   "cell_type": "code",
   "execution_count": 3,
   "metadata": {},
   "outputs": [],
   "source": [
    "# define the function for calculating the alpha\n",
    "def alpha_star(mean, sd, r):\n",
    "    # r = daily riskless rate of returns\n",
    "    a = 2*(r+1)*(r-mean)/(((mean-r)**2)-sd**2)\n",
    "    return a"
   ]
  },
  {
   "cell_type": "code",
   "execution_count": 202,
   "metadata": {},
   "outputs": [],
   "source": [
    "# We now backtest by using 250 sized windows to calibrate a* for calculating\n",
    "# the returns of the subseding 100 days\n",
    "\n",
    "# first we check how many sets of 100 days are we going to compute (excluding the first window)\n",
    "#print(len(returns)-1-250)\n",
    "\n",
    "# there are 2517 days, so we will ignore the last 17 days and backtest for 25 iterations\n",
    "newReturns = []\n",
    "risklessRet = 0.01\n",
    "dailyR = risklessRet/250\n",
    "start = 1\n",
    "N = 250\n",
    "T = 100\n",
    "PnLs = []\n",
    "cumuRet = []\n",
    "alphas = []\n",
    "\n",
    "for iter in range(25):\n",
    "    sample_mean = returns[['AAPL']][(start+iter*T):(start+N+iter*T)].values.mean()\n",
    "    sample_sd = returns[['AAPL']][(start+iter*T):(start+N+iter*T)].values.std()\n",
    "\n",
    "    alphas.append(alpha_star(sample_mean, sample_sd, dailyR))\n",
    "    newReturns = np.append(newReturns, returns[['AAPL']][(start+N+iter*T):(start+N+T+iter*T)].values * alphas[iter] + (1-alphas[iter]) * dailyR)\n",
    "    windowPnL = np.prod(1 + returns[['AAPL']][(start+N+iter*T):(start+N+T+iter*T)].values * alphas[iter] + (1-alphas[iter]) * dailyR)\n",
    "    PnLs.append(windowPnL)\n",
    "    if iter == 0:\n",
    "        cumuRet.append(windowPnL)\n",
    "    else:\n",
    "        cumuRet.append(cumuRet[iter-1] * windowPnL)\n",
    "    "
   ]
  },
  {
   "cell_type": "code",
   "execution_count": 203,
   "metadata": {},
   "outputs": [
    {
     "name": "stdout",
     "output_type": "stream",
     "text": [
      "2.0897370610496417 13.807528892472101 0.5596937415786019\n"
     ]
    }
   ],
   "source": [
    "annualized_ret = np.mean(newReturns)*250\n",
    "annualized_var = np.var(newReturns, ddof=1)*250\n",
    "Sharpe_ratio = (annualized_ret - risklessRet)/np.sqrt(annualized_var)\n",
    "print(annualized_ret, annualized_var, Sharpe_ratio)\n",
    "\n",
    "np.savetxt('a_PnL.csv', np.array(cumuRet))\n",
    "np.savetxt('a_strat.csv', np.array([annualized_ret, annualized_var, Sharpe_ratio]))"
   ]
  },
  {
   "cell_type": "code",
   "execution_count": 116,
   "metadata": {},
   "outputs": [
    {
     "data": {
      "text/plain": [
       "<function matplotlib.pyplot.plot(*args, scalex=True, scaley=True, data=None, **kwargs)>"
      ]
     },
     "execution_count": 116,
     "metadata": {},
     "output_type": "execute_result"
    },
    {
     "data": {
      "image/png": "[encoded data removed]",
      "text/plain": [
       "<Figure size 432x288 with 1 Axes>"
      ]
     },
     "metadata": {
      "needs_background": "light"
     },
     "output_type": "display_data"
    }
   ],
   "source": [
    "plt.plot(stock_data['Adj Close'][['AAPL']])\n",
    "plt.title('Adjusted Closing Prices - Apple')\n",
    "plt.plot"
   ]
  },
  {
   "cell_type": "code",
   "execution_count": 179,
   "metadata": {},
   "outputs": [
    {
     "data": {
      "text/plain": [
       "<function matplotlib.pyplot.plot(*args, scalex=True, scaley=True, data=None, **kwargs)>"
      ]
     },
     "execution_count": 179,
     "metadata": {},
     "output_type": "execute_result"
    },
    {
     "data": {
      "image/png": "[encoded data removed]",
      "text/plain": [
       "<Figure size 432x288 with 1 Axes>"
      ]
     },
     "metadata": {
      "needs_background": "light"
     },
     "output_type": "display_data"
    }
   ],
   "source": [
    "plt.plot(PnLs)\n",
    "plt.title('Window PnLs - Apple')\n",
    "plt.xlim(-3,25)\n",
    "plt.plot"
   ]
  },
  {
   "cell_type": "code",
   "execution_count": 180,
   "metadata": {},
   "outputs": [
    {
     "data": {
      "text/plain": [
       "<function matplotlib.pyplot.plot(*args, scalex=True, scaley=True, data=None, **kwargs)>"
      ]
     },
     "execution_count": 180,
     "metadata": {},
     "output_type": "execute_result"
    },
    {
     "data": {
      "image/png": "[encoded data removed]",
      "text/plain": [
       "<Figure size 432x288 with 1 Axes>"
      ]
     },
     "metadata": {
      "needs_background": "light"
     },
     "output_type": "display_data"
    }
   ],
   "source": [
    "plt.plot(cumuRet)\n",
    "plt.title('Cumulative Returns (PnL Process) - Apple')\n",
    "plt.xlim(-3,25)\n",
    "plt.plot"
   ]
  },
  {
   "cell_type": "code",
   "execution_count": 88,
   "metadata": {},
   "outputs": [],
   "source": [
    "#1b Construct the optimal strategy for each asset with the riskless one and volume-exponentially weighted avg price. \n",
    "# Output their PnL process, annualized mean, variance and Sharpe ratio\n",
    "\n",
    "downScale = 10**4 #downsize volume units to calculable range\n",
    "\n",
    "# Volume-exp weighted average price function for the calibration window\n",
    "def VEWAP_reg(ticker, winStart, winSize):\n",
    "    vol = np.array(stock_data['Volume'][[ticker]])/downScale\n",
    "    ret = np.array(returns[[ticker]][winStart:winStart+winSize]).T[0].tolist()\n",
    "    vewaps = []\n",
    "    for t in range(winSize-1):\n",
    "        Ft = 0\n",
    "        for j in range(t+1):\n",
    "            Ft += vol[winStart+t-j] * ret[t-j]/(np.exp(j))\n",
    "\n",
    "        vewaps.append(Ft[0])\n",
    "    #regress Returns of day t+1 on to factors day t\n",
    "    slope, intercept, r, p, se = stats.linregress(vewaps, ret[1:]) \n",
    "    \n",
    "    #calc mean and sd of volumes\n",
    "    vol_mean = np.mean(vol[winStart:winStart+winSize-1])\n",
    "    vol_sd = np.std(vol[winStart:winStart+winSize-1], ddof=1)\n",
    "    \n",
    "    #calc mean and sd of factors\n",
    "    f_mean = np.mean(vewaps)\n",
    "    f_sd = np.std(vewaps, ddof=1)\n",
    "    #print(f_mean, f_sd)\n",
    "    f_arr = np.linspace(f_mean-3*f_sd, f_mean+3*f_sd, num=100)\n",
    "\n",
    "    #calc standard dev of returns\n",
    "    ret_sd = np.std(ret)\n",
    "    \n",
    "    return intercept, slope, vol_mean, vol_sd, ret_sd, f_arr"
   ]
  },
  {
   "cell_type": "code",
   "execution_count": 311,
   "metadata": {},
   "outputs": [],
   "source": [
    "# define value function\n",
    "\n",
    "def V(alpha,t,f):\n",
    "    if t == 99:\n",
    "        # Here I had to scale the initial state by 100 to allow big enough changes between value function updates;\n",
    "        # removing the '100x' would still allow the DPP to finish from t=99...0, but there would be occasional \n",
    "        #  sequences of 0.5 in the alphas which would not be usable in the interpolate function\n",
    "        #  Scaling the initial state does NOT affect the alphas achieved.\n",
    "        return 100*(((1+alpha[0]*(a+c*f+ret_sd)+alpha[1]*dailyR)**gamma)+((1+alpha[0]*(a+c*f-ret_sd)+alpha[1]*dailyR)**gamma)) \n",
    "    else:    \n",
    "        return (((1+alpha[0]*(a+c*f+ret_sd)+alpha[1]*dailyR)**gamma)/4*(Vtplus1(np.exp(-1)*f+(vol_mean+vol_sd)*(a+c*f+ret_sd))\n",
    "                                                                    +Vtplus1(np.exp(-1)*f+(vol_mean-vol_sd)*(a+c*f+ret_sd)))\n",
    "                +((1+alpha[0]*(a+c*f-ret_sd)+alpha[1]*dailyR)**gamma)/4*(Vtplus1(np.exp(-1)*f+(vol_mean+vol_sd)*(a+c*f-ret_sd))\n",
    "                                                                   +Vtplus1(np.exp(-1)*f+(vol_mean-vol_sd)*(a+c*-ret_sd))))\n",
    "\n",
    "def maxV(alpha,t,f):\n",
    "    return -V(alpha,t,f)"
   ]
  },
  {
   "cell_type": "code",
   "execution_count": 352,
   "metadata": {
    "scrolled": true
   },
   "outputs": [
    {
     "name": "stdout",
     "output_type": "stream",
     "text": [
      "..processing window # 0\n",
      "..processing window # 1\n",
      "..processing window # 2\n"
     ]
    }
   ],
   "source": [
    "# DPP\n",
    "# This process will only be repeated for one asset (AAPL), the actual process can be looped by using the tickers list\n",
    "\n",
    "ticker = 'AAPL'\n",
    "newReturns = []\n",
    "PnLs = []\n",
    "cumuRet = []\n",
    "\n",
    "T = 100\n",
    "gamma = 0.5\n",
    "alpha_init = [0.50, 0.50]\n",
    "cons=({'type': 'eq', 'fun': lambda w:  np.sum(w)-1.0})\n",
    "vol = np.array(stock_data['Volume'][[ticker]])/downScale\n",
    "ret = np.array(returns[[ticker]]).T[0].tolist()\n",
    "\n",
    "#the calibration window is supposed to move for 25 times\n",
    "for iter in range(3):\n",
    "    print('..processing window #', iter)\n",
    "    a,c,vol_mean,vol_sd,ret_sd,f_arr = VEWAP_reg(ticker,start+iter*T,N)\n",
    "    Vtplus1 = 1 #declare V(t+1,.) function; this will be redefined by interpolations later\n",
    "\n",
    "    alpha_stars = []\n",
    "    realizedFs = []\n",
    "\n",
    "    for t in range(99,-1,-1):\n",
    "        #print(t)\n",
    "        v_vals = []\n",
    "        best_alphas = []\n",
    "        for f in f_arr:\n",
    "            weights = scipy.optimize.minimize(maxV, alpha_init, (t, f), method='SLSQP', constraints=cons)\n",
    "            v_vals.append(-weights.fun)\n",
    "            best_alphas.append(weights.x[0])\n",
    "\n",
    "        #update the V(t+1,.) function for the next t\n",
    "        Vtplus1 = scipy.interpolate.UnivariateSpline(f_arr, v_vals)\n",
    "\n",
    "        #calculate the realized f value and predict alphaStar(t,f)\n",
    "        alphaStar = scipy.interpolate.UnivariateSpline(f_arr, best_alphas)\n",
    "        \n",
    "        realizedF = 0\n",
    "        #for backtesting the 100 days, we actually compute the factors since day t=-1 or else day t=0 will have no factors\n",
    "        for i in range(t,-1,-1):\n",
    "            realizedF += vol[start+iter*T+N+i] * ret[start+iter*T+N+i]/np.exp(t-i)\n",
    "        #realizedFs.append(realizedF[0])\n",
    "        alpha_stars.append(alphaStar(realizedF)[0])\n",
    "    \n",
    "    #the alpha stars were collected in reverse order\n",
    "    alpha_stars = alpha_stars[::-1]\n",
    "    \n",
    "    for day in range(T):\n",
    "        newRet = ret[start+N+iter*T+day] * alpha_stars[day] + (1-alpha_stars[day]) * dailyR\n",
    "        newReturns.append(newRet)    \n",
    "        dailyPnL = 1 + newRet\n",
    "        PnLs.append(dailyPnL)\n",
    "    "
   ]
  },
  {
   "cell_type": "code",
   "execution_count": 353,
   "metadata": {},
   "outputs": [],
   "source": [
    "for day in range(len(PnLs)):\n",
    "    if day == 0:\n",
    "        cumuRet.append(PnLs[0])\n",
    "    else:\n",
    "        cumuRet.append(cumuRet[day-1] * PnLs[day])"
   ]
  },
  {
   "cell_type": "code",
   "execution_count": 354,
   "metadata": {},
   "outputs": [
    {
     "data": {
      "text/plain": [
       "<function matplotlib.pyplot.plot(*args, scalex=True, scaley=True, data=None, **kwargs)>"
      ]
     },
     "execution_count": 354,
     "metadata": {},
     "output_type": "execute_result"
    },
    {
     "data": {
      "image/png": "[encoded data removed]",
      "text/plain": [
       "<Figure size 432x288 with 1 Axes>"
      ]
     },
     "metadata": {
      "needs_background": "light"
     },
     "output_type": "display_data"
    }
   ],
   "source": [
    "plt.plot(cumuRet[:300])\n",
    "plt.title('Daily Cumulative Returns')\n",
    "plt.plot"
   ]
  },
  {
   "cell_type": "code",
   "execution_count": 355,
   "metadata": {},
   "outputs": [
    {
     "name": "stdout",
     "output_type": "stream",
     "text": [
      "13.50368238683736 26.537542562765037 2.6193897979880996\n"
     ]
    }
   ],
   "source": [
    "annualized_ret = np.mean(newReturns)*250\n",
    "annualized_var = np.var(newReturns, ddof=1)*250\n",
    "Sharpe_ratio = (annualized_ret - risklessRet)/np.sqrt(annualized_var)\n",
    "print(annualized_ret, annualized_var, Sharpe_ratio)\n",
    "\n",
    "np.savetxt('b_PnL.csv', np.array(cumuRet))\n",
    "np.savetxt('b_strat.csv', np.array([annualized_ret, annualized_var, Sharpe_ratio]))"
   ]
  },
  {
   "cell_type": "code",
   "execution_count": 356,
   "metadata": {},
   "outputs": [],
   "source": [
    "#1c Repeat part a) but with a proportional transaction cost\n",
    "# First we define our objective function (value function)\n",
    "\n",
    "def V(alpha,t,a):\n",
    "    if t == T-1:\n",
    "        return -100*(((1+alpha[0]*(m+sd)+alpha[1]*dailyR-lamb*np.abs(alpha[0]-a))**gamma)/2+((1+alpha[0]*(m-sd)+alpha[1]*dailyR-lamb*np.abs(alpha[0]-a))**gamma)/2) \n",
    "    else:    \n",
    "        return -(((1+alpha[0]*(m+sd)+alpha[1]*dailyR-lamb*np.abs(alpha[0]-a))**gamma)/2*Vtplus1(alpha[0]*(1+m+sd)/(1+alpha[0]*(m+sd)+alpha[1]*dailyR))\n",
    "                 +((1+alpha[0]*(m-sd)+alpha[1]*dailyR-lamb*np.abs(alpha[0]-a))**gamma)/2*Vtplus1(alpha[0]*(1+m-sd)/(1+alpha[0]*(m-sd)+alpha[1]*dailyR)))"
   ]
  },
  {
   "cell_type": "code",
   "execution_count": 357,
   "metadata": {},
   "outputs": [
    {
     "name": "stdout",
     "output_type": "stream",
     "text": [
      "..processing window # 0\n",
      "14\n",
      "13\n",
      "12\n",
      "11\n",
      "10\n",
      "9\n",
      "8\n",
      "7\n",
      "6\n",
      "5\n",
      "4\n",
      "3\n",
      "2\n",
      "1\n",
      "0\n"
     ]
    }
   ],
   "source": [
    "# DPP\n",
    "# This process will only be repeated for one asset (AAPL), the actual process can be looped by using the tickers list\n",
    "\n",
    "ticker = 'AAPL'\n",
    "newReturns = []\n",
    "PnLs = []\n",
    "cumuRet = []\n",
    "\n",
    "T = 15\n",
    "gamma = 0.5\n",
    "lamb = 0.01\n",
    "alpha_init = [0.50, 0.50]\n",
    "weights_b4_balance = np.linspace(-2,2, num=100)\n",
    "cons=({'type': 'eq', 'fun': lambda w:  np.sum(w)-1.0})\n",
    "vol = np.array(stock_data['Volume'][[ticker]])/downScale\n",
    "ret = np.array(returns[[ticker]]).T[0].tolist()\n",
    "\n",
    "#the calibration window is supposed to move for 25 times\n",
    "for iter in range(1):\n",
    "    print('..processing window #', iter)\n",
    "    m = np.mean(returns[[ticker]][(start+iter*T):(start+N+iter*T)])\n",
    "    sd = np.std(returns[[ticker]][(start+iter*T):(start+N+iter*T)], ddof=1)\n",
    "    Vtplus1 = 1 #declare V(t+1,.) function; this will be redefined by interpolations later\n",
    "    alpha_func = []\n",
    "\n",
    "    for t in range(T-1,-1,-1):\n",
    "        #print(t)\n",
    "        v_vals = []\n",
    "        best_alphas = []\n",
    "        for a in weights_b4_balance:\n",
    "            weights = scipy.optimize.minimize(V, alpha_init, (t, a), method='SLSQP', constraints=cons)\n",
    "            v_vals.append(-weights.fun)\n",
    "            best_alphas.append(weights.x[0])\n",
    "\n",
    "        #update the V(t+1,.) function for the next t\n",
    "        Vtplus1 = scipy.interpolate.UnivariateSpline(weights_b4_balance, v_vals)\n",
    "\n",
    "        #predict alphaStar(t,a) from previous alpha\n",
    "        alphaStar = scipy.interpolate.UnivariateSpline(weights_b4_balance, best_alphas)\n",
    "        #store function for a(t,.)\n",
    "        alpha_func.append(alphaStar)\n",
    "        \n",
    "    #for backtesting the 100 days, we move forward, predicting the next best alpha from the last, starting at t=-1\n",
    "    #the alpha star functions were collected in reverse order\n",
    "    alpha_func = alpha_func[::-1]\n",
    "    alpha_stars = []\n",
    "    for f in range(len(alpha_func)):\n",
    "        if f == 0:\n",
    "            alpha_stars.append(alpha_func[f](0))\n",
    "        else:\n",
    "            alpha_stars.append(alpha_func[f](alpha_stars[f-1]))\n",
    "    "
   ]
  },
  {
   "cell_type": "code",
   "execution_count": 366,
   "metadata": {},
   "outputs": [],
   "source": [
    "# calculate PnL process for 15 days\n",
    "\n",
    "newReturns = []\n",
    "cumuRet = []\n",
    "for day in range(T):\n",
    "    if day==0:\n",
    "        newRet = np.array(returns[[ticker]])[day+251] * alpha_stars[day] + (1-alpha_stars[day]) * dailyR - lamb*np.absolute(alpha_stars[day])\n",
    "    else:\n",
    "        newRet = np.array(returns[[ticker]])[day+251] * alpha_stars[day] + (1-alpha_stars[day]) * dailyR - lamb*np.absolute(alpha_stars[day]-alpha_stars[day-1])\n",
    "    pnl = 1 + newRet\n",
    "    newReturns.append(newRet)\n",
    "    if day==0:\n",
    "        cumuRet.append(pnl)\n",
    "    else:\n",
    "        cumuRet.append(cumuRet[day-1] * pnl)"
   ]
  },
  {
   "cell_type": "code",
   "execution_count": 367,
   "metadata": {},
   "outputs": [
    {
     "name": "stdout",
     "output_type": "stream",
     "text": [
      "-55.80796028605976 24.71979211131975 -11.226685464718882\n"
     ]
    }
   ],
   "source": [
    "annualized_ret = np.mean(newReturns)*250\n",
    "annualized_var = np.var(newReturns, ddof=1)*250\n",
    "Sharpe_ratio = (annualized_ret - risklessRet)/np.sqrt(annualized_var)\n",
    "print(annualized_ret, annualized_var, Sharpe_ratio)\n",
    "\n",
    "np.savetxt('c_PnL.csv', np.array(cumuRet))\n",
    "np.savetxt('c_strat.csv', np.array([annualized_ret, annualized_var, Sharpe_ratio]))"
   ]
  },
  {
   "cell_type": "code",
   "execution_count": 368,
   "metadata": {},
   "outputs": [
    {
     "data": {
      "text/plain": [
       "<function matplotlib.pyplot.show(*args, **kw)>"
      ]
     },
     "execution_count": 368,
     "metadata": {},
     "output_type": "execute_result"
    },
    {
     "data": {
      "image/png": "[encoded data removed]",
      "text/plain": [
       "<Figure size 432x288 with 1 Axes>"
      ]
     },
     "metadata": {
      "needs_background": "light"
     },
     "output_type": "display_data"
    }
   ],
   "source": [
    "plt.plot(cumuRet)\n",
    "plt.title('PnL process (with T-costs) - Apple')\n",
    "plt.show"
   ]
  },
  {
   "cell_type": "code",
   "execution_count": null,
   "metadata": {},
   "outputs": [],
   "source": []
  }
 ],
 "metadata": {
  "kernelspec": {
   "display_name": "Python 3",
   "language": "python",
   "name": "python3"
  },
  "language_info": {
   "codemirror_mode": {
    "name": "ipython",
    "version": 3
   },
   "file_extension": ".py",
   "mimetype": "text/x-python",
   "name": "python",
   "nbconvert_exporter": "python",
   "pygments_lexer": "ipython3",
   "version": "3.7.4"
  }
 },
 "nbformat": 4,
 "nbformat_minor": 2
}
